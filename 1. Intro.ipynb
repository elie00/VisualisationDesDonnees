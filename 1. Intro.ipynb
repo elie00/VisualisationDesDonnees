{
 "cells": [
  {
   "cell_type": "code",
   "execution_count": 1,
   "id": "initial_id",
   "metadata": {
    "collapsed": true,
    "ExecuteTime": {
     "end_time": "2023-10-31T08:20:59.919421900Z",
     "start_time": "2023-10-31T08:20:59.906395400Z"
    }
   },
   "outputs": [],
   "source": [
    "import pandas as pd"
   ]
  },
  {
   "cell_type": "markdown",
   "source": [
    "# Import du fichier Excel"
   ],
   "metadata": {
    "collapsed": false
   },
   "id": "8dd87fb6ac488c4e"
  },
  {
   "cell_type": "code",
   "execution_count": 6,
   "outputs": [],
   "source": [
    "CheminFichier = r'C:\\Users\\giant\\Downloads\\python-visualisation-3000779-main\\python-visualisation-3000779-main\\01_Visualisation_Données\\Data\\Dataset_Employes.xlsx'\n",
    "Dataset_Employes = pd.read_excel(CheminFichier)"
   ],
   "metadata": {
    "collapsed": false,
    "ExecuteTime": {
     "end_time": "2023-10-31T08:25:08.625377300Z",
     "start_time": "2023-10-31T08:25:08.516824300Z"
    }
   },
   "id": "46e56703b78c5680"
  },
  {
   "cell_type": "code",
   "execution_count": 7,
   "outputs": [
    {
     "data": {
      "text/plain": "     id_salarié Contrat  Durée hebdo  Salaire base mensuel  %variable_moyen  \\\n0             1     CDI           35             9894.7000               13   \n1             2     CDI           35             4296.7167               39   \n2             3     CDI           35             3705.2167               29   \n3             4     CDI           35             1697.1500               17   \n4             5     CDD           35             2848.3000               15   \n..          ...     ...          ...                   ...              ...   \n249         252     CDI           35             7304.2667               17   \n250         253     CDI           35             8328.0167               14   \n251         254     CDI           32             8860.8000               19   \n252         255     CDI           24             4974.3200               32   \n253         256     CDD           35             6583.8500               13   \n\n     Augmentation  Promotion  Ancienneté_an  Distance domicile/Travail  \\\n0             0.0        0.0           22.5                         69   \n1             0.0        1.0           10.8                         32   \n2             1.0        1.0           13.0                         68   \n3             1.0        0.0           21.7                         59   \n4             1.0        0.0            3.3                         15   \n..            ...        ...            ...                        ...   \n249           1.0        0.0            7.9                         59   \n250           1.0        0.0           10.2                         59   \n251           1.0        1.0           11.9                         65   \n252           0.0        1.0           11.8                         31   \n253           1.0        1.0           12.6                         59   \n\n             Service  Niveau de satisfaction Type Contrat  Age  \n0          Technique                      60        Cadre   46  \n1          Technique                      39    Non Cadre   55  \n2                 RH                      62        Cadre   52  \n3          Technique                      98    Non Cadre   58  \n4                R&D                      81    Non Cadre   39  \n..               ...                     ...          ...  ...  \n249        Technique                      34        Cadre   41  \n250  Compta Finances                      60        Cadre   51  \n251               RH                      59        Cadre   48  \n252       Commercial                      66        Cadre   65  \n253        Marketing                      67        Cadre   56  \n\n[254 rows x 13 columns]",
      "text/html": "<div>\n<style scoped>\n    .dataframe tbody tr th:only-of-type {\n        vertical-align: middle;\n    }\n\n    .dataframe tbody tr th {\n        vertical-align: top;\n    }\n\n    .dataframe thead th {\n        text-align: right;\n    }\n</style>\n<table border=\"1\" class=\"dataframe\">\n  <thead>\n    <tr style=\"text-align: right;\">\n      <th></th>\n      <th>id_salarié</th>\n      <th>Contrat</th>\n      <th>Durée hebdo</th>\n      <th>Salaire base mensuel</th>\n      <th>%variable_moyen</th>\n      <th>Augmentation</th>\n      <th>Promotion</th>\n      <th>Ancienneté_an</th>\n      <th>Distance domicile/Travail</th>\n      <th>Service</th>\n      <th>Niveau de satisfaction</th>\n      <th>Type Contrat</th>\n      <th>Age</th>\n    </tr>\n  </thead>\n  <tbody>\n    <tr>\n      <th>0</th>\n      <td>1</td>\n      <td>CDI</td>\n      <td>35</td>\n      <td>9894.7000</td>\n      <td>13</td>\n      <td>0.0</td>\n      <td>0.0</td>\n      <td>22.5</td>\n      <td>69</td>\n      <td>Technique</td>\n      <td>60</td>\n      <td>Cadre</td>\n      <td>46</td>\n    </tr>\n    <tr>\n      <th>1</th>\n      <td>2</td>\n      <td>CDI</td>\n      <td>35</td>\n      <td>4296.7167</td>\n      <td>39</td>\n      <td>0.0</td>\n      <td>1.0</td>\n      <td>10.8</td>\n      <td>32</td>\n      <td>Technique</td>\n      <td>39</td>\n      <td>Non Cadre</td>\n      <td>55</td>\n    </tr>\n    <tr>\n      <th>2</th>\n      <td>3</td>\n      <td>CDI</td>\n      <td>35</td>\n      <td>3705.2167</td>\n      <td>29</td>\n      <td>1.0</td>\n      <td>1.0</td>\n      <td>13.0</td>\n      <td>68</td>\n      <td>RH</td>\n      <td>62</td>\n      <td>Cadre</td>\n      <td>52</td>\n    </tr>\n    <tr>\n      <th>3</th>\n      <td>4</td>\n      <td>CDI</td>\n      <td>35</td>\n      <td>1697.1500</td>\n      <td>17</td>\n      <td>1.0</td>\n      <td>0.0</td>\n      <td>21.7</td>\n      <td>59</td>\n      <td>Technique</td>\n      <td>98</td>\n      <td>Non Cadre</td>\n      <td>58</td>\n    </tr>\n    <tr>\n      <th>4</th>\n      <td>5</td>\n      <td>CDD</td>\n      <td>35</td>\n      <td>2848.3000</td>\n      <td>15</td>\n      <td>1.0</td>\n      <td>0.0</td>\n      <td>3.3</td>\n      <td>15</td>\n      <td>R&amp;D</td>\n      <td>81</td>\n      <td>Non Cadre</td>\n      <td>39</td>\n    </tr>\n    <tr>\n      <th>...</th>\n      <td>...</td>\n      <td>...</td>\n      <td>...</td>\n      <td>...</td>\n      <td>...</td>\n      <td>...</td>\n      <td>...</td>\n      <td>...</td>\n      <td>...</td>\n      <td>...</td>\n      <td>...</td>\n      <td>...</td>\n      <td>...</td>\n    </tr>\n    <tr>\n      <th>249</th>\n      <td>252</td>\n      <td>CDI</td>\n      <td>35</td>\n      <td>7304.2667</td>\n      <td>17</td>\n      <td>1.0</td>\n      <td>0.0</td>\n      <td>7.9</td>\n      <td>59</td>\n      <td>Technique</td>\n      <td>34</td>\n      <td>Cadre</td>\n      <td>41</td>\n    </tr>\n    <tr>\n      <th>250</th>\n      <td>253</td>\n      <td>CDI</td>\n      <td>35</td>\n      <td>8328.0167</td>\n      <td>14</td>\n      <td>1.0</td>\n      <td>0.0</td>\n      <td>10.2</td>\n      <td>59</td>\n      <td>Compta Finances</td>\n      <td>60</td>\n      <td>Cadre</td>\n      <td>51</td>\n    </tr>\n    <tr>\n      <th>251</th>\n      <td>254</td>\n      <td>CDI</td>\n      <td>32</td>\n      <td>8860.8000</td>\n      <td>19</td>\n      <td>1.0</td>\n      <td>1.0</td>\n      <td>11.9</td>\n      <td>65</td>\n      <td>RH</td>\n      <td>59</td>\n      <td>Cadre</td>\n      <td>48</td>\n    </tr>\n    <tr>\n      <th>252</th>\n      <td>255</td>\n      <td>CDI</td>\n      <td>24</td>\n      <td>4974.3200</td>\n      <td>32</td>\n      <td>0.0</td>\n      <td>1.0</td>\n      <td>11.8</td>\n      <td>31</td>\n      <td>Commercial</td>\n      <td>66</td>\n      <td>Cadre</td>\n      <td>65</td>\n    </tr>\n    <tr>\n      <th>253</th>\n      <td>256</td>\n      <td>CDD</td>\n      <td>35</td>\n      <td>6583.8500</td>\n      <td>13</td>\n      <td>1.0</td>\n      <td>1.0</td>\n      <td>12.6</td>\n      <td>59</td>\n      <td>Marketing</td>\n      <td>67</td>\n      <td>Cadre</td>\n      <td>56</td>\n    </tr>\n  </tbody>\n</table>\n<p>254 rows × 13 columns</p>\n</div>"
     },
     "execution_count": 7,
     "metadata": {},
     "output_type": "execute_result"
    }
   ],
   "source": [
    "Dataset_Employes"
   ],
   "metadata": {
    "collapsed": false,
    "ExecuteTime": {
     "end_time": "2023-10-31T08:25:17.761819600Z",
     "start_time": "2023-10-31T08:25:17.728800800Z"
    }
   },
   "id": "fedac1ab5e26d40b"
  },
  {
   "cell_type": "markdown",
   "source": [
    "## Import du fichier CSV"
   ],
   "metadata": {
    "collapsed": false
   },
   "id": "439dd491d033bd6a"
  },
  {
   "cell_type": "code",
   "execution_count": 12,
   "outputs": [],
   "source": [
    "CheminFichier = 'C:/Users/giant/Downloads/python-visualisation-3000779-main/python-visualisation-3000779-main/01_Visualisation_Données/Data/Dataset_Employes.csv'\n",
    "Dataset_Employes = pd.read_csv(CheminFichier, sep=';', encoding='ISO-8859-1')\n"
   ],
   "metadata": {
    "collapsed": false,
    "ExecuteTime": {
     "end_time": "2023-10-31T08:38:30.042884300Z",
     "start_time": "2023-10-31T08:38:30.015884900Z"
    }
   },
   "id": "1464139fdf596361"
  },
  {
   "cell_type": "code",
   "execution_count": 16,
   "outputs": [
    {
     "data": {
      "text/plain": "     id_salarié Contrat  Durée hebdo Salaire base mensuel  %variable_moyen  \\\n0             1     CDI           35               9894,7               13   \n1             2     CDI           35            4296,7167               39   \n2             3     CDI           35            3705,2167               29   \n3             4     CDI           35              1697,15               17   \n4             5     CDD           35               2848,3               15   \n..          ...     ...          ...                  ...              ...   \n249         252     CDI           35            7304,2667               17   \n250         253     CDI           35            8328,0167               14   \n251         254     CDI           32               8860,8               19   \n252         255     CDI           24              4974,32               32   \n253         256     CDD           35              6583,85               13   \n\n     Augmentation  Promotion Ancienneté_an  Distance domicile/Travail  \\\n0             0.0        0.0          22,5                         69   \n1             0.0        1.0          10,8                         32   \n2             1.0        1.0            13                         68   \n3             1.0        0.0          21,7                         59   \n4             1.0        0.0           3,3                         15   \n..            ...        ...           ...                        ...   \n249           1.0        0.0           7,9                         59   \n250           1.0        0.0          10,2                         59   \n251           1.0        1.0          11,9                         65   \n252           0.0        1.0          11,8                         31   \n253           1.0        1.0          12,6                         59   \n\n             Service  Niveau de satisfaction Type Contrat  Age  \n0          Technique                      60        Cadre   46  \n1          Technique                      39    Non Cadre   55  \n2                 RH                      62        Cadre   52  \n3          Technique                      98    Non Cadre   58  \n4                R&D                      81    Non Cadre   39  \n..               ...                     ...          ...  ...  \n249        Technique                      34        Cadre   41  \n250  Compta Finances                      60        Cadre   51  \n251               RH                      59        Cadre   48  \n252       Commercial                      66        Cadre   65  \n253        Marketing                      67        Cadre   56  \n\n[254 rows x 13 columns]",
      "text/html": "<div>\n<style scoped>\n    .dataframe tbody tr th:only-of-type {\n        vertical-align: middle;\n    }\n\n    .dataframe tbody tr th {\n        vertical-align: top;\n    }\n\n    .dataframe thead th {\n        text-align: right;\n    }\n</style>\n<table border=\"1\" class=\"dataframe\">\n  <thead>\n    <tr style=\"text-align: right;\">\n      <th></th>\n      <th>id_salarié</th>\n      <th>Contrat</th>\n      <th>Durée hebdo</th>\n      <th>Salaire base mensuel</th>\n      <th>%variable_moyen</th>\n      <th>Augmentation</th>\n      <th>Promotion</th>\n      <th>Ancienneté_an</th>\n      <th>Distance domicile/Travail</th>\n      <th>Service</th>\n      <th>Niveau de satisfaction</th>\n      <th>Type Contrat</th>\n      <th>Age</th>\n    </tr>\n  </thead>\n  <tbody>\n    <tr>\n      <th>0</th>\n      <td>1</td>\n      <td>CDI</td>\n      <td>35</td>\n      <td>9894,7</td>\n      <td>13</td>\n      <td>0.0</td>\n      <td>0.0</td>\n      <td>22,5</td>\n      <td>69</td>\n      <td>Technique</td>\n      <td>60</td>\n      <td>Cadre</td>\n      <td>46</td>\n    </tr>\n    <tr>\n      <th>1</th>\n      <td>2</td>\n      <td>CDI</td>\n      <td>35</td>\n      <td>4296,7167</td>\n      <td>39</td>\n      <td>0.0</td>\n      <td>1.0</td>\n      <td>10,8</td>\n      <td>32</td>\n      <td>Technique</td>\n      <td>39</td>\n      <td>Non Cadre</td>\n      <td>55</td>\n    </tr>\n    <tr>\n      <th>2</th>\n      <td>3</td>\n      <td>CDI</td>\n      <td>35</td>\n      <td>3705,2167</td>\n      <td>29</td>\n      <td>1.0</td>\n      <td>1.0</td>\n      <td>13</td>\n      <td>68</td>\n      <td>RH</td>\n      <td>62</td>\n      <td>Cadre</td>\n      <td>52</td>\n    </tr>\n    <tr>\n      <th>3</th>\n      <td>4</td>\n      <td>CDI</td>\n      <td>35</td>\n      <td>1697,15</td>\n      <td>17</td>\n      <td>1.0</td>\n      <td>0.0</td>\n      <td>21,7</td>\n      <td>59</td>\n      <td>Technique</td>\n      <td>98</td>\n      <td>Non Cadre</td>\n      <td>58</td>\n    </tr>\n    <tr>\n      <th>4</th>\n      <td>5</td>\n      <td>CDD</td>\n      <td>35</td>\n      <td>2848,3</td>\n      <td>15</td>\n      <td>1.0</td>\n      <td>0.0</td>\n      <td>3,3</td>\n      <td>15</td>\n      <td>R&amp;D</td>\n      <td>81</td>\n      <td>Non Cadre</td>\n      <td>39</td>\n    </tr>\n    <tr>\n      <th>...</th>\n      <td>...</td>\n      <td>...</td>\n      <td>...</td>\n      <td>...</td>\n      <td>...</td>\n      <td>...</td>\n      <td>...</td>\n      <td>...</td>\n      <td>...</td>\n      <td>...</td>\n      <td>...</td>\n      <td>...</td>\n      <td>...</td>\n    </tr>\n    <tr>\n      <th>249</th>\n      <td>252</td>\n      <td>CDI</td>\n      <td>35</td>\n      <td>7304,2667</td>\n      <td>17</td>\n      <td>1.0</td>\n      <td>0.0</td>\n      <td>7,9</td>\n      <td>59</td>\n      <td>Technique</td>\n      <td>34</td>\n      <td>Cadre</td>\n      <td>41</td>\n    </tr>\n    <tr>\n      <th>250</th>\n      <td>253</td>\n      <td>CDI</td>\n      <td>35</td>\n      <td>8328,0167</td>\n      <td>14</td>\n      <td>1.0</td>\n      <td>0.0</td>\n      <td>10,2</td>\n      <td>59</td>\n      <td>Compta Finances</td>\n      <td>60</td>\n      <td>Cadre</td>\n      <td>51</td>\n    </tr>\n    <tr>\n      <th>251</th>\n      <td>254</td>\n      <td>CDI</td>\n      <td>32</td>\n      <td>8860,8</td>\n      <td>19</td>\n      <td>1.0</td>\n      <td>1.0</td>\n      <td>11,9</td>\n      <td>65</td>\n      <td>RH</td>\n      <td>59</td>\n      <td>Cadre</td>\n      <td>48</td>\n    </tr>\n    <tr>\n      <th>252</th>\n      <td>255</td>\n      <td>CDI</td>\n      <td>24</td>\n      <td>4974,32</td>\n      <td>32</td>\n      <td>0.0</td>\n      <td>1.0</td>\n      <td>11,8</td>\n      <td>31</td>\n      <td>Commercial</td>\n      <td>66</td>\n      <td>Cadre</td>\n      <td>65</td>\n    </tr>\n    <tr>\n      <th>253</th>\n      <td>256</td>\n      <td>CDD</td>\n      <td>35</td>\n      <td>6583,85</td>\n      <td>13</td>\n      <td>1.0</td>\n      <td>1.0</td>\n      <td>12,6</td>\n      <td>59</td>\n      <td>Marketing</td>\n      <td>67</td>\n      <td>Cadre</td>\n      <td>56</td>\n    </tr>\n  </tbody>\n</table>\n<p>254 rows × 13 columns</p>\n</div>"
     },
     "execution_count": 16,
     "metadata": {},
     "output_type": "execute_result"
    }
   ],
   "source": [
    "Dataset_Employes"
   ],
   "metadata": {
    "collapsed": false,
    "ExecuteTime": {
     "end_time": "2023-10-31T08:40:00.295820100Z",
     "start_time": "2023-10-31T08:40:00.255843500Z"
    }
   },
   "id": "d157bc4a5bdd83a6"
  },
  {
   "cell_type": "markdown",
   "source": [
    "## Types de colonnes"
   ],
   "metadata": {
    "collapsed": false
   },
   "id": "d77eeffa7fb408d4"
  },
  {
   "cell_type": "code",
   "execution_count": 17,
   "outputs": [
    {
     "data": {
      "text/plain": "(254, 13)"
     },
     "execution_count": 17,
     "metadata": {},
     "output_type": "execute_result"
    }
   ],
   "source": [
    "# Pour retourner la forme du Dataset\n",
    "# Afficher le nombre de lignes et de colonnes\n",
    "\n",
    "Dataset_Employes.shape"
   ],
   "metadata": {
    "collapsed": false,
    "ExecuteTime": {
     "end_time": "2023-10-31T08:43:23.476401300Z",
     "start_time": "2023-10-31T08:43:23.448371200Z"
    }
   },
   "id": "db23dd6e24cb4c46"
  },
  {
   "cell_type": "code",
   "execution_count": 18,
   "outputs": [
    {
     "name": "stdout",
     "output_type": "stream",
     "text": [
      "<class 'pandas.core.frame.DataFrame'>\n",
      "RangeIndex: 254 entries, 0 to 253\n",
      "Data columns (total 13 columns):\n",
      " #   Column                     Non-Null Count  Dtype  \n",
      "---  ------                     --------------  -----  \n",
      " 0   id_salarié                 254 non-null    int64  \n",
      " 1   Contrat                    254 non-null    object \n",
      " 2   Durée hebdo                254 non-null    int64  \n",
      " 3   Salaire base mensuel       254 non-null    object \n",
      " 4   %variable_moyen            254 non-null    int64  \n",
      " 5   Augmentation               241 non-null    float64\n",
      " 6   Promotion                  241 non-null    float64\n",
      " 7   Ancienneté_an              254 non-null    object \n",
      " 8   Distance domicile/Travail  254 non-null    int64  \n",
      " 9   Service                    254 non-null    object \n",
      " 10  Niveau de satisfaction     254 non-null    int64  \n",
      " 11  Type Contrat               254 non-null    object \n",
      " 12  Age                        254 non-null    int64  \n",
      "dtypes: float64(2), int64(6), object(5)\n",
      "memory usage: 25.9+ KB\n"
     ]
    }
   ],
   "source": [
    "# Pour retourner le nombre de valeurs non manquantes ainsi que les informations de types de données\n",
    "Dataset_Employes.info()"
   ],
   "metadata": {
    "collapsed": false,
    "ExecuteTime": {
     "end_time": "2023-10-31T08:44:20.946453800Z",
     "start_time": "2023-10-31T08:44:20.845886300Z"
    }
   },
   "id": "a126cbdf02347bec"
  },
  {
   "cell_type": "markdown",
   "source": [
    "## Filtrer les données"
   ],
   "metadata": {
    "collapsed": false
   },
   "id": "8f5bd7bf49812a47"
  },
  {
   "cell_type": "markdown",
   "source": [
    "### Filtrer des contrats en CDI"
   ],
   "metadata": {
    "collapsed": false
   },
   "id": "237f80235eca039f"
  },
  {
   "cell_type": "code",
   "execution_count": 19,
   "outputs": [
    {
     "data": {
      "text/plain": "Contrat\nCDI    232\nCDD     22\nName: count, dtype: int64"
     },
     "execution_count": 19,
     "metadata": {},
     "output_type": "execute_result"
    }
   ],
   "source": [
    "Dataset_Employes['Contrat'].value_counts()"
   ],
   "metadata": {
    "collapsed": false,
    "ExecuteTime": {
     "end_time": "2023-10-31T08:46:33.624246900Z",
     "start_time": "2023-10-31T08:46:33.594247900Z"
    }
   },
   "id": "3d5c450fe4c4eafc"
  },
  {
   "cell_type": "code",
   "execution_count": 21,
   "outputs": [
    {
     "data": {
      "text/plain": "0       True\n1       True\n2       True\n3       True\n4      False\n       ...  \n249     True\n250     True\n251     True\n252     True\n253    False\nName: Contrat, Length: 254, dtype: bool"
     },
     "execution_count": 21,
     "metadata": {},
     "output_type": "execute_result"
    }
   ],
   "source": [
    "Data_Filtree_CDI = Dataset_Employes['Contrat']=='CDI'\n",
    "Data_Filtree_CDI"
   ],
   "metadata": {
    "collapsed": false,
    "ExecuteTime": {
     "end_time": "2023-10-31T08:47:30.809256900Z",
     "start_time": "2023-10-31T08:47:30.784259Z"
    }
   },
   "id": "b201e094eaa894f8"
  },
  {
   "cell_type": "code",
   "execution_count": 22,
   "outputs": [
    {
     "data": {
      "text/plain": "     id_salarié Contrat  Durée hebdo Salaire base mensuel  %variable_moyen  \\\n0             1     CDI           35               9894,7               13   \n1             2     CDI           35            4296,7167               39   \n2             3     CDI           35            3705,2167               29   \n3             4     CDI           35              1697,15               17   \n5             6     CDI           35              5464,55               34   \n..          ...     ...          ...                  ...              ...   \n248         251     CDI           35            7637,9333               21   \n249         252     CDI           35            7304,2667               17   \n250         253     CDI           35            8328,0167               14   \n251         254     CDI           32               8860,8               19   \n252         255     CDI           24              4974,32               32   \n\n     Augmentation  Promotion Ancienneté_an  Distance domicile/Travail  \\\n0             0.0        0.0          22,5                         69   \n1             0.0        1.0          10,8                         32   \n2             1.0        1.0            13                         68   \n3             1.0        0.0          21,7                         59   \n5             0.0        0.0          10,5                          6   \n..            ...        ...           ...                        ...   \n248           1.0        0.0           8,6                         34   \n249           1.0        0.0           7,9                         59   \n250           1.0        0.0          10,2                         59   \n251           1.0        1.0          11,9                         65   \n252           0.0        1.0          11,8                         31   \n\n             Service  Niveau de satisfaction Type Contrat  Age  \n0          Technique                      60        Cadre   46  \n1          Technique                      39    Non Cadre   55  \n2                 RH                      62        Cadre   52  \n3          Technique                      98    Non Cadre   58  \n5         Commercial                      47    Non Cadre   39  \n..               ...                     ...          ...  ...  \n248               RH                      84        Cadre   55  \n249        Technique                      34        Cadre   41  \n250  Compta Finances                      60        Cadre   51  \n251               RH                      59        Cadre   48  \n252       Commercial                      66        Cadre   65  \n\n[232 rows x 13 columns]",
      "text/html": "<div>\n<style scoped>\n    .dataframe tbody tr th:only-of-type {\n        vertical-align: middle;\n    }\n\n    .dataframe tbody tr th {\n        vertical-align: top;\n    }\n\n    .dataframe thead th {\n        text-align: right;\n    }\n</style>\n<table border=\"1\" class=\"dataframe\">\n  <thead>\n    <tr style=\"text-align: right;\">\n      <th></th>\n      <th>id_salarié</th>\n      <th>Contrat</th>\n      <th>Durée hebdo</th>\n      <th>Salaire base mensuel</th>\n      <th>%variable_moyen</th>\n      <th>Augmentation</th>\n      <th>Promotion</th>\n      <th>Ancienneté_an</th>\n      <th>Distance domicile/Travail</th>\n      <th>Service</th>\n      <th>Niveau de satisfaction</th>\n      <th>Type Contrat</th>\n      <th>Age</th>\n    </tr>\n  </thead>\n  <tbody>\n    <tr>\n      <th>0</th>\n      <td>1</td>\n      <td>CDI</td>\n      <td>35</td>\n      <td>9894,7</td>\n      <td>13</td>\n      <td>0.0</td>\n      <td>0.0</td>\n      <td>22,5</td>\n      <td>69</td>\n      <td>Technique</td>\n      <td>60</td>\n      <td>Cadre</td>\n      <td>46</td>\n    </tr>\n    <tr>\n      <th>1</th>\n      <td>2</td>\n      <td>CDI</td>\n      <td>35</td>\n      <td>4296,7167</td>\n      <td>39</td>\n      <td>0.0</td>\n      <td>1.0</td>\n      <td>10,8</td>\n      <td>32</td>\n      <td>Technique</td>\n      <td>39</td>\n      <td>Non Cadre</td>\n      <td>55</td>\n    </tr>\n    <tr>\n      <th>2</th>\n      <td>3</td>\n      <td>CDI</td>\n      <td>35</td>\n      <td>3705,2167</td>\n      <td>29</td>\n      <td>1.0</td>\n      <td>1.0</td>\n      <td>13</td>\n      <td>68</td>\n      <td>RH</td>\n      <td>62</td>\n      <td>Cadre</td>\n      <td>52</td>\n    </tr>\n    <tr>\n      <th>3</th>\n      <td>4</td>\n      <td>CDI</td>\n      <td>35</td>\n      <td>1697,15</td>\n      <td>17</td>\n      <td>1.0</td>\n      <td>0.0</td>\n      <td>21,7</td>\n      <td>59</td>\n      <td>Technique</td>\n      <td>98</td>\n      <td>Non Cadre</td>\n      <td>58</td>\n    </tr>\n    <tr>\n      <th>5</th>\n      <td>6</td>\n      <td>CDI</td>\n      <td>35</td>\n      <td>5464,55</td>\n      <td>34</td>\n      <td>0.0</td>\n      <td>0.0</td>\n      <td>10,5</td>\n      <td>6</td>\n      <td>Commercial</td>\n      <td>47</td>\n      <td>Non Cadre</td>\n      <td>39</td>\n    </tr>\n    <tr>\n      <th>...</th>\n      <td>...</td>\n      <td>...</td>\n      <td>...</td>\n      <td>...</td>\n      <td>...</td>\n      <td>...</td>\n      <td>...</td>\n      <td>...</td>\n      <td>...</td>\n      <td>...</td>\n      <td>...</td>\n      <td>...</td>\n      <td>...</td>\n    </tr>\n    <tr>\n      <th>248</th>\n      <td>251</td>\n      <td>CDI</td>\n      <td>35</td>\n      <td>7637,9333</td>\n      <td>21</td>\n      <td>1.0</td>\n      <td>0.0</td>\n      <td>8,6</td>\n      <td>34</td>\n      <td>RH</td>\n      <td>84</td>\n      <td>Cadre</td>\n      <td>55</td>\n    </tr>\n    <tr>\n      <th>249</th>\n      <td>252</td>\n      <td>CDI</td>\n      <td>35</td>\n      <td>7304,2667</td>\n      <td>17</td>\n      <td>1.0</td>\n      <td>0.0</td>\n      <td>7,9</td>\n      <td>59</td>\n      <td>Technique</td>\n      <td>34</td>\n      <td>Cadre</td>\n      <td>41</td>\n    </tr>\n    <tr>\n      <th>250</th>\n      <td>253</td>\n      <td>CDI</td>\n      <td>35</td>\n      <td>8328,0167</td>\n      <td>14</td>\n      <td>1.0</td>\n      <td>0.0</td>\n      <td>10,2</td>\n      <td>59</td>\n      <td>Compta Finances</td>\n      <td>60</td>\n      <td>Cadre</td>\n      <td>51</td>\n    </tr>\n    <tr>\n      <th>251</th>\n      <td>254</td>\n      <td>CDI</td>\n      <td>32</td>\n      <td>8860,8</td>\n      <td>19</td>\n      <td>1.0</td>\n      <td>1.0</td>\n      <td>11,9</td>\n      <td>65</td>\n      <td>RH</td>\n      <td>59</td>\n      <td>Cadre</td>\n      <td>48</td>\n    </tr>\n    <tr>\n      <th>252</th>\n      <td>255</td>\n      <td>CDI</td>\n      <td>24</td>\n      <td>4974,32</td>\n      <td>32</td>\n      <td>0.0</td>\n      <td>1.0</td>\n      <td>11,8</td>\n      <td>31</td>\n      <td>Commercial</td>\n      <td>66</td>\n      <td>Cadre</td>\n      <td>65</td>\n    </tr>\n  </tbody>\n</table>\n<p>232 rows × 13 columns</p>\n</div>"
     },
     "execution_count": 22,
     "metadata": {},
     "output_type": "execute_result"
    }
   ],
   "source": [
    "Data_Filtree_CDI = Dataset_Employes[Data_Filtree_CDI]\n",
    "Data_Filtree_CDI"
   ],
   "metadata": {
    "collapsed": false,
    "ExecuteTime": {
     "end_time": "2023-10-31T08:48:42.215304300Z",
     "start_time": "2023-10-31T08:48:42.102114700Z"
    }
   },
   "id": "72bbe4c6609c35fc"
  },
  {
   "cell_type": "markdown",
   "source": [
    "## Filtre sur les durées de travail > 25 heures"
   ],
   "metadata": {
    "collapsed": false
   },
   "id": "303d5a0ba588117a"
  },
  {
   "cell_type": "code",
   "execution_count": 23,
   "outputs": [
    {
     "data": {
      "text/plain": "Durée hebdo\n35    223\n24     22\n28      5\n32      4\nName: count, dtype: int64"
     },
     "execution_count": 23,
     "metadata": {},
     "output_type": "execute_result"
    }
   ],
   "source": [
    "Dataset_Employes['Durée hebdo'].value_counts()"
   ],
   "metadata": {
    "collapsed": false,
    "ExecuteTime": {
     "end_time": "2023-10-31T08:53:44.208509600Z",
     "start_time": "2023-10-31T08:53:44.179996100Z"
    }
   },
   "id": "fb9bd817285b799d"
  },
  {
   "cell_type": "code",
   "execution_count": 24,
   "outputs": [
    {
     "data": {
      "text/plain": "0       True\n1       True\n2       True\n3       True\n4       True\n       ...  \n249     True\n250     True\n251     True\n252    False\n253     True\nName: Durée hebdo, Length: 254, dtype: bool"
     },
     "execution_count": 24,
     "metadata": {},
     "output_type": "execute_result"
    }
   ],
   "source": [
    "Data_Filtree_duree = Dataset_Employes['Durée hebdo'] >= 25\n",
    "Data_Filtree_duree"
   ],
   "metadata": {
    "collapsed": false,
    "ExecuteTime": {
     "end_time": "2023-10-31T08:54:47.008684600Z",
     "start_time": "2023-10-31T08:54:46.976678100Z"
    }
   },
   "id": "49545662776b22a8"
  },
  {
   "cell_type": "code",
   "execution_count": 25,
   "outputs": [
    {
     "data": {
      "text/plain": "     id_salarié Contrat  Durée hebdo Salaire base mensuel  %variable_moyen  \\\n0             1     CDI           35               9894,7               13   \n1             2     CDI           35            4296,7167               39   \n2             3     CDI           35            3705,2167               29   \n3             4     CDI           35              1697,15               17   \n4             5     CDD           35               2848,3               15   \n..          ...     ...          ...                  ...              ...   \n248         251     CDI           35            7637,9333               21   \n249         252     CDI           35            7304,2667               17   \n250         253     CDI           35            8328,0167               14   \n251         254     CDI           32               8860,8               19   \n253         256     CDD           35              6583,85               13   \n\n     Augmentation  Promotion Ancienneté_an  Distance domicile/Travail  \\\n0             0.0        0.0          22,5                         69   \n1             0.0        1.0          10,8                         32   \n2             1.0        1.0            13                         68   \n3             1.0        0.0          21,7                         59   \n4             1.0        0.0           3,3                         15   \n..            ...        ...           ...                        ...   \n248           1.0        0.0           8,6                         34   \n249           1.0        0.0           7,9                         59   \n250           1.0        0.0          10,2                         59   \n251           1.0        1.0          11,9                         65   \n253           1.0        1.0          12,6                         59   \n\n             Service  Niveau de satisfaction Type Contrat  Age  \n0          Technique                      60        Cadre   46  \n1          Technique                      39    Non Cadre   55  \n2                 RH                      62        Cadre   52  \n3          Technique                      98    Non Cadre   58  \n4                R&D                      81    Non Cadre   39  \n..               ...                     ...          ...  ...  \n248               RH                      84        Cadre   55  \n249        Technique                      34        Cadre   41  \n250  Compta Finances                      60        Cadre   51  \n251               RH                      59        Cadre   48  \n253        Marketing                      67        Cadre   56  \n\n[232 rows x 13 columns]",
      "text/html": "<div>\n<style scoped>\n    .dataframe tbody tr th:only-of-type {\n        vertical-align: middle;\n    }\n\n    .dataframe tbody tr th {\n        vertical-align: top;\n    }\n\n    .dataframe thead th {\n        text-align: right;\n    }\n</style>\n<table border=\"1\" class=\"dataframe\">\n  <thead>\n    <tr style=\"text-align: right;\">\n      <th></th>\n      <th>id_salarié</th>\n      <th>Contrat</th>\n      <th>Durée hebdo</th>\n      <th>Salaire base mensuel</th>\n      <th>%variable_moyen</th>\n      <th>Augmentation</th>\n      <th>Promotion</th>\n      <th>Ancienneté_an</th>\n      <th>Distance domicile/Travail</th>\n      <th>Service</th>\n      <th>Niveau de satisfaction</th>\n      <th>Type Contrat</th>\n      <th>Age</th>\n    </tr>\n  </thead>\n  <tbody>\n    <tr>\n      <th>0</th>\n      <td>1</td>\n      <td>CDI</td>\n      <td>35</td>\n      <td>9894,7</td>\n      <td>13</td>\n      <td>0.0</td>\n      <td>0.0</td>\n      <td>22,5</td>\n      <td>69</td>\n      <td>Technique</td>\n      <td>60</td>\n      <td>Cadre</td>\n      <td>46</td>\n    </tr>\n    <tr>\n      <th>1</th>\n      <td>2</td>\n      <td>CDI</td>\n      <td>35</td>\n      <td>4296,7167</td>\n      <td>39</td>\n      <td>0.0</td>\n      <td>1.0</td>\n      <td>10,8</td>\n      <td>32</td>\n      <td>Technique</td>\n      <td>39</td>\n      <td>Non Cadre</td>\n      <td>55</td>\n    </tr>\n    <tr>\n      <th>2</th>\n      <td>3</td>\n      <td>CDI</td>\n      <td>35</td>\n      <td>3705,2167</td>\n      <td>29</td>\n      <td>1.0</td>\n      <td>1.0</td>\n      <td>13</td>\n      <td>68</td>\n      <td>RH</td>\n      <td>62</td>\n      <td>Cadre</td>\n      <td>52</td>\n    </tr>\n    <tr>\n      <th>3</th>\n      <td>4</td>\n      <td>CDI</td>\n      <td>35</td>\n      <td>1697,15</td>\n      <td>17</td>\n      <td>1.0</td>\n      <td>0.0</td>\n      <td>21,7</td>\n      <td>59</td>\n      <td>Technique</td>\n      <td>98</td>\n      <td>Non Cadre</td>\n      <td>58</td>\n    </tr>\n    <tr>\n      <th>4</th>\n      <td>5</td>\n      <td>CDD</td>\n      <td>35</td>\n      <td>2848,3</td>\n      <td>15</td>\n      <td>1.0</td>\n      <td>0.0</td>\n      <td>3,3</td>\n      <td>15</td>\n      <td>R&amp;D</td>\n      <td>81</td>\n      <td>Non Cadre</td>\n      <td>39</td>\n    </tr>\n    <tr>\n      <th>...</th>\n      <td>...</td>\n      <td>...</td>\n      <td>...</td>\n      <td>...</td>\n      <td>...</td>\n      <td>...</td>\n      <td>...</td>\n      <td>...</td>\n      <td>...</td>\n      <td>...</td>\n      <td>...</td>\n      <td>...</td>\n      <td>...</td>\n    </tr>\n    <tr>\n      <th>248</th>\n      <td>251</td>\n      <td>CDI</td>\n      <td>35</td>\n      <td>7637,9333</td>\n      <td>21</td>\n      <td>1.0</td>\n      <td>0.0</td>\n      <td>8,6</td>\n      <td>34</td>\n      <td>RH</td>\n      <td>84</td>\n      <td>Cadre</td>\n      <td>55</td>\n    </tr>\n    <tr>\n      <th>249</th>\n      <td>252</td>\n      <td>CDI</td>\n      <td>35</td>\n      <td>7304,2667</td>\n      <td>17</td>\n      <td>1.0</td>\n      <td>0.0</td>\n      <td>7,9</td>\n      <td>59</td>\n      <td>Technique</td>\n      <td>34</td>\n      <td>Cadre</td>\n      <td>41</td>\n    </tr>\n    <tr>\n      <th>250</th>\n      <td>253</td>\n      <td>CDI</td>\n      <td>35</td>\n      <td>8328,0167</td>\n      <td>14</td>\n      <td>1.0</td>\n      <td>0.0</td>\n      <td>10,2</td>\n      <td>59</td>\n      <td>Compta Finances</td>\n      <td>60</td>\n      <td>Cadre</td>\n      <td>51</td>\n    </tr>\n    <tr>\n      <th>251</th>\n      <td>254</td>\n      <td>CDI</td>\n      <td>32</td>\n      <td>8860,8</td>\n      <td>19</td>\n      <td>1.0</td>\n      <td>1.0</td>\n      <td>11,9</td>\n      <td>65</td>\n      <td>RH</td>\n      <td>59</td>\n      <td>Cadre</td>\n      <td>48</td>\n    </tr>\n    <tr>\n      <th>253</th>\n      <td>256</td>\n      <td>CDD</td>\n      <td>35</td>\n      <td>6583,85</td>\n      <td>13</td>\n      <td>1.0</td>\n      <td>1.0</td>\n      <td>12,6</td>\n      <td>59</td>\n      <td>Marketing</td>\n      <td>67</td>\n      <td>Cadre</td>\n      <td>56</td>\n    </tr>\n  </tbody>\n</table>\n<p>232 rows × 13 columns</p>\n</div>"
     },
     "execution_count": 25,
     "metadata": {},
     "output_type": "execute_result"
    }
   ],
   "source": [
    "Dataset_Employes_Plus25H = Dataset_Employes[Data_Filtree_duree]\n",
    "Dataset_Employes_Plus25H"
   ],
   "metadata": {
    "collapsed": false,
    "ExecuteTime": {
     "end_time": "2023-10-31T08:55:41.511998700Z",
     "start_time": "2023-10-31T08:55:41.470985200Z"
    }
   },
   "id": "2fa48246c9491e2a"
  },
  {
   "cell_type": "code",
   "execution_count": null,
   "outputs": [],
   "source": [],
   "metadata": {
    "collapsed": false
   },
   "id": "5f39ff25bd623c56"
  }
 ],
 "metadata": {
  "kernelspec": {
   "display_name": "Python 3",
   "language": "python",
   "name": "python3"
  },
  "language_info": {
   "codemirror_mode": {
    "name": "ipython",
    "version": 2
   },
   "file_extension": ".py",
   "mimetype": "text/x-python",
   "name": "python",
   "nbconvert_exporter": "python",
   "pygments_lexer": "ipython2",
   "version": "2.7.6"
  }
 },
 "nbformat": 4,
 "nbformat_minor": 5
}
